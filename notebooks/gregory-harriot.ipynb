{
 "cells": [
  {
   "cell_type": "markdown",
   "id": "5101db46",
   "metadata": {},
   "source": [
    "Given a series S: $a_0, a_1, \\cdots a_{n-1}, a_n$ we ask what is the polynomial $p(n)=\\Sigma_{k=0}^m \\alpha_k n^k$ which approximates this series. "
   ]
  },
  {
   "cell_type": "code",
   "execution_count": 7,
   "id": "a6c9b3c0",
   "metadata": {},
   "outputs": [],
   "source": [
    "S←2 0 4 20 54"
   ]
  },
  {
   "cell_type": "code",
   "execution_count": 5,
   "id": "a57053d3",
   "metadata": {},
   "outputs": [],
   "source": [
    "Diff←{⎕io←0 ⋄ 0=⍺:⊂,⍵ ⋄ (⊂⍵),(⍺-1)Diff (1↓⍵)-(-1)↓⍵}"
   ]
  },
  {
   "cell_type": "code",
   "execution_count": 26,
   "id": "a12586bd",
   "metadata": {},
   "outputs": [
    {
     "data": {
      "text/html": [
       "<pre class=\"language-APL\"> 2 0 4 20 54  ¯2 4 16 34  6 12 18  6 6  0 \n",
       "</pre>"
      ]
     },
     "execution_count": 26,
     "metadata": {},
     "output_type": "execute_result"
    }
   ],
   "source": [
    "⎕←Ds←4 Diff S"
   ]
  },
  {
   "cell_type": "code",
   "execution_count": 27,
   "id": "da1537af",
   "metadata": {},
   "outputs": [
    {
     "data": {
      "text/html": [
       "<pre class=\"language-APL\"> ¯2  6  6  0 \n",
       "</pre>"
      ]
     },
     "execution_count": 27,
     "metadata": {},
     "output_type": "execute_result"
    }
   ],
   "source": [
    "⎕←Ts←1↑¨1↓Ds"
   ]
  },
  {
   "cell_type": "markdown",
   "id": "d781b3f6",
   "metadata": {},
   "source": [
    "The Harriot-Pascal matrix columns $k$ are $h_k(n)=\\frac{n(n-1) \\cdots n-k+1}{k!}$."
   ]
  },
  {
   "cell_type": "code",
   "execution_count": 13,
   "id": "1d2fb127",
   "metadata": {},
   "outputs": [],
   "source": [
    "Harriot←{⎕io←0 ⋄ ⍉(⍳⍵)∘.!⍳⍵}"
   ]
  },
  {
   "cell_type": "code",
   "execution_count": 21,
   "id": "e90354fd",
   "metadata": {},
   "outputs": [
    {
     "data": {
      "text/html": [
       "<pre class=\"language-APL\">1 0 0 0\n",
       "1 1 0 0\n",
       "1 2 1 0\n",
       "1 3 3 1\n",
       "</pre>"
      ]
     },
     "execution_count": 21,
     "metadata": {},
     "output_type": "execute_result"
    }
   ],
   "source": [
    "⎕←H←Harriot 4"
   ]
  },
  {
   "cell_type": "code",
   "execution_count": 38,
   "id": "1bc3eec1",
   "metadata": {},
   "outputs": [
    {
     "data": {
      "text/html": [
       "<pre class=\"language-APL\"> 2  ¯8  8  ¯2 \n",
       "</pre>"
      ]
     },
     "execution_count": 38,
     "metadata": {},
     "output_type": "execute_result"
    }
   ],
   "source": [
    "(⊖⌹H)+.×Ts"
   ]
  }
 ],
 "metadata": {
  "kernelspec": {
   "display_name": "Dyalog APL",
   "language": "apl",
   "name": "dyalog-kernel"
  },
  "language_info": {
   "file_extension": ".apl",
   "mimetype": "text/apl",
   "name": "APL"
  }
 },
 "nbformat": 4,
 "nbformat_minor": 5
}
