{
 "cells": [
  {
   "cell_type": "markdown",
   "id": "1381a025",
   "metadata": {},
   "source": [
    "# Foundations of Data Analytics 1 -- Finding Fibonacci\n",
    "\n",
    "In this inaugural segment of data analytics foundations, we will maintain a hypothesis that we deal with objects which must be able to be computed. Computations involve arithmetic and arithmetic's generalization in algebra. A calculus must somehow be based on arithmetic and algebra to be computationally feasible. \n",
    "\n",
    "Our primary tool throughout will be linear algebra, but with data structures which might be nested, certainly multidimensional, each with their own arithmetics and generalizations in algebra. But for now we will content ourselves with linear algebra whose ultimate aim is to solve systems of equations. More than that we will eshew various non-computational ideas like infinity, instead using perspective, real numbers, instead using notions of approximations of numbers which are not neatly divisible without remainders, and limits, instead developing methods to get at tolerable approximations.\n",
    "\n",
    "Each of these notions, and more to come, will help to provide a principled approach to the entire analytics cycle, from stretching from business requirements to system designs and back again as chain in evolving markets is inevitable.\n",
    "\n",
    "As we drop into the deep end of the pool and tread water we begin with a principled approach with several _desiderata_, which we might label _sanities_:\n",
    "\n",
    "- Respect for the objects of our analysis. What are they, are they related one another, in what way, and how basic? This last question is a principle of parsimony where we use only what we need. Finding out what we need and sticking to this minimal or maximal needs is the subject of much decision making analysis. In microeconomics we have the production possibilities curve, in marketing we have the product hierarchy, in organizational work we have efficient sets of practices. This leads to a second desideratum.\n",
    "\n",
    "- Respect for the analyst. Unlike Immanuel Kant and, perhaps a reading of Plato about triangles, we will not hold in these Foundations that triangles exist because they already exist in our minds. We will hold that we observe objects in nature, or perhaps as the work of our hands, that when we take 3 pencils and join them in the closed order of the point of one pencil touches (a vertex or node) the eraser end of another pencil and that all the pencils must be joined. Our minds abstract from the experience and call the edges of any three sided closed object a triangle. We will avoid what E.T. Jaynes called the _mind projection fallacy_, which, in logic, is the fallacy of [reification](https://en.wikipedia.org/wiki/Reification_(fallacy)). \n",
    "\n",
    "- We might simply call for common sense. It is common from the point of view of being able to share the experiences, reasoning, and judgments of analysts with other analysts and clients of analysts. If our math, computations, intuition and experience do not line up with the results, we should be a tad skeptical of those results and at the least have a conversation about differences and why they occur! \n",
    "\n",
    "- There will be other desired, required, needed principles as we proceed! For example we should discuss topics of relevance, selection, operation, completeness, and the all important issue of concrete situations in which plans go awry, systems do not failover, reports do not make sense, people flee the premises, among other things.\n",
    "\n",
    "We begin with a basic primitive data structure called an ordered list, _o-list_. This is distince from an unordered list, for example, a list of attributes for a product we are manufacturing. A most basal o-list is _binary_ o-list is composed of two number primitives one is a token for _nothing there_, the other is a token for _something is there_, and in the Hindu-Arabic number system this is the ordered set of {0, 1}. Zero comes before 1, and 1 after 0. Naturally this happens because if we start with an empty glass, 0, then pour a tasty beverage into the glass, 1, we observe an order. \n",
    "\n",
    "We build on this binary o-list and count how many times the 0 or the 1 occurs and map these to the [Hindu-Arabic number system](https://en.wikipedia.org/wiki/Hindu%E2%80%93Arabic_numeral_system) we will call the basic integers with zero. When objects are taken away from a list we get a reflection of the numbers and put a `¯` as part of the number and call this a negatively-signed integer. From signed integers fast extend to rational numbers, those which can be factored in ratios. Any non-rational number will be an approximation to a sequence of rational numbers for as long as we have patience, or the computer has memory, to compute. \n",
    "\n",
    "We walk now into our initial foray with analysis accompanied by a naturally occurring and on-going sequence we humans have noticed for the past 3 millenia named for an [Italian mathematician from Pisa in the 12th-13th century.](https://en.wikipedia.org/wiki/Fibonacci)\n",
    "\n",
    "## Finding Fibonacci\n",
    "\n",
    "The Fibonacci sequence finds its way into myriad nooks and crannies of our universe, physical and mental. Physically it maps to the spiral development of a nautilus shell. Mentally we use the sequence to model growth, chaos, market behavior, and even use it to score tasks in Agile project management. There are even spiral software development models. Ancient Sanskit prosody around 200 BCE developed the sequence to describe patterns of syllables. Visual artists use the sequence to divide the picture plane according to the Golden Ratio. Commodity traders Such sequences from nature have inspired myriad attempts to find sequential patterns in human behavior and in fact have provided the basis for understanding the relationships among very complex objects as they are. We abstract patterns from what we experience and observe. Based on these findings and using some sort of ordering of preferences, often stored habitually in our virtuous hearts, we decide on courses of action. We begin our foundational journey with this storied sequence of integers.\n",
    "\n",
    "### What's a sequence?\n",
    "\n",
    "Sequences are not series. A sequence $S$ is just an ordered list of numbers $a_0, a_1, a_2, \\cdots$, where the $a_i$ themselves refer to an natural number number supplemented by a zero and the $\\cdots$ (central dots) have mathematical meaning. The $\\cdots$ notation does _not_ ever refer to _infinity_, which unfortunately is a mind projection fallacy called _reification_, but serve the purpose of indicating an _ongoing_, and in this case, _ordered_ list. A _series_ reflects the order of an underlying sequence, for example, using the first three coefficients of a sequence to act as coefficients of a polynomial as here.\n",
    "\n",
    "$$\n",
    "p(\\alpha) = a_0 \\alpha^0 + a_1 \\alpha^1 + a_2 \\alpha^2,\n",
    "$$\n",
    "\n",
    "where $\\alpha$ is a simple indicator of multiplicity. In arithmetic we might assign $\\alpha$s to integers. In linear algebra the $alpha$ is a basis where for the three terms in $p(\\alpha)$ we would have these definitions.\n",
    "\n",
    "$\\alpha^0 = \\begin{bmatrix}1\\\\0\\\\0\\end{bmatrix}$, $\\alpha^1 = \\begin{bmatrix}0\\\\1\\\\0\\end{bmatrix}$, $\\alpha^2 = \\begin{bmatrix}0\\\\0\\\\1\\end{bmatrix}.$\n",
    "\n",
    "We get $\\alpha^2$ by a cross product of $\\alpha \\otimes \\alpha$. If we were to multiply $\\alpha$ by a rational number $c=2$, then we see that\n",
    "\n",
    "$$\n",
    "c \\alpha^1 = c \\begin{bmatrix}0\\\\1\\\\0\\end{bmatrix} = \\begin{bmatrix}0\\\\c\\\\0\\end{bmatrix},\n",
    "$$\n",
    "\n",
    "so that\n",
    "\n",
    "$$\n",
    "c \\alpha^1 \\otimes c\\alpha^1 = \\begin{bmatrix}0\\\\ 0 \\\\c^2\\end{bmatrix}.\n",
    "$$.\n",
    "\n",
    "Thinking this way about objects we might call _polynumbers_ instead of variables will aid us further down the pike in understanding and building on the foundations of data analytics.\n",
    "\n",
    "We can now get out our calculator and evaluate the polynomial object $p$ at rational c.\n",
    "\n",
    "$$\n",
    "p(c) = a_0 c^0 + a_1 c^1 + a_2 c^2,\n",
    "$$\n",
    "\n",
    "This means that all we would need to talk about is the polynomial object, called a _polynumber_. In fact this idea is so general, we can assign another polynomial object $q$ to $\\alpha$ and compose the two polynumbers $p(q(\\alpha))$ and even evaluate this composition at rational $c=2$. \n",
    "\n",
    "**APL Note.** Below this note is a thought process using APL notation with computational results. The workflow starts with specifying the polynumbers (coefficients of the polynomial) as, and in order, $a_0 = 2, \\, a_1 =-1, \\, a_2 = 1$ using the `←` (Control+[) operator. We know that $c=2$ and we also know that $k= 0, 1, 2$. We build a 3x3 matrix $C$ for the $2 \\times \\alpha$ vectors. Lastly we compute the matrix product (3 sums of products) of $Ca_k$. We use the reshape operator `⍴` to shape the $C$ matrix. The evaluation reduces, the compress operator `/`, the sums of products by adding them together. In a final exercise for this segment we will challenge ourselves to use APL to help us multiply two polynomials/polynumbers together.  $\\Diamond$\n",
    "\n",
    "We will remember from here on out that computations in APL are from the right to the left, a process called [Reverse Polish Notation](https://en.wikipedia.org/wiki/Reverse_Polish_notation) used in stack-oriented programming languages and machines like APL.\n",
    "\n",
    "We can replicate this and the rest of the APL in this segment using Dyalog APL's online site [TryApl](https://tryapl.org/). There we can review the APL notation, get a tutorial started, and download a free version of Dyalog APL. This version of APL also connects with R, Python, and Excel (for Windows only!). There will be more detail on these features as we proceed and as we might need them. $\\Diamond$\n",
    "\n",
    "**NB:** A $\\Diamond$ will indicate the end of an Exercise or an APL Note."
   ]
  },
  {
   "cell_type": "code",
   "execution_count": 135,
   "id": "2ee56080",
   "metadata": {},
   "outputs": [
    {
     "data": {
      "text/html": [
       "<pre class=\"language-APL\">2 ¯1 1\n",
       "</pre>"
      ]
     },
     "execution_count": 135,
     "metadata": {},
     "output_type": "execute_result"
    },
    {
     "data": {
      "text/html": [
       "<pre class=\"language-APL\">1 0 0\n",
       "0 2 0\n",
       "0 0 4\n",
       "</pre>"
      ]
     },
     "execution_count": 135,
     "metadata": {},
     "output_type": "execute_result"
    },
    {
     "data": {
      "text/html": [
       "<pre class=\"language-APL\">2 ¯2 4\n",
       "</pre>"
      ]
     },
     "execution_count": 135,
     "metadata": {},
     "output_type": "execute_result"
    },
    {
     "data": {
      "text/html": [
       "<pre class=\"language-APL\">4\n",
       "</pre>"
      ]
     },
     "execution_count": 135,
     "metadata": {},
     "output_type": "execute_result"
    },
    {
     "data": {
      "text/html": [
       "<pre class=\"language-APL\">4\n",
       "</pre>"
      ]
     },
     "execution_count": 135,
     "metadata": {},
     "output_type": "execute_result"
    }
   ],
   "source": [
    "⎕←a_k← 2 ¯1 1 ⍝ coefficients which are the elements of a polynumber\n",
    "c← 2        ⍝ evaluation point a rational number\n",
    "k← 0 1 2    ⍝ powers of polynomial representation of the polynumber a_k\n",
    "⎕←C←3 3⍴(c*0) 0 0 0 (c*1) 0 0 0 (c*2)\n",
    "⎕←p_c←C+.×a_k\n",
    "+/p_c\n",
    "⍝ yet another way\n",
    "c_k←c*k     ⍝ alpha at c raised to each of the k powers\n",
    "⎕←p_c_plus← a_k+.×c_k ⍝ sum of products"
   ]
  },
  {
   "cell_type": "markdown",
   "id": "d2ebb9df",
   "metadata": {},
   "source": [
    "Here are examples of sequences:\n",
    "\n",
    "1. **Times series [sic].** The average temperatures in the Bronx for July 1, 11, 21, 31  from 2019 to 2023, 84, 84, 85, 86, in degrees Fahranheit inclusive are an ordered list of temperatures. They are not, technically a series. If we were to use these temperatures as coefficients in a polynomial, then we would have a (truncated) _series_. Order matters from day to day and reflects a _natural source of order_. It is common sense which is an important consideration when we abstract from the heat or lack thereof dab day and publish an index called the temperature. Order will also determine the arithmetic of intervals from which we can build grids off of which we can simulate whatever relationships we are modeling, often with random numbers.\n",
    "\n",
    "2. **Fibonacci sequence.** Again, the _sequence_ an ordered set of numbers we will call $F_n$, is often called a series. It is defined with initial conditions {0, 1} (for starters). After that all we have to do to get the next number in the sequence is add the two previous numbers together. Thus the third number is $0+1=1$ and the fourth is $1+1=2$ and the fifth is $1+2=3$ and so on. On complex Agile projects $F$ is sometimes used as a seemingly exponentially increasing scale which team members can use to score tasks, the higher the $F$ score the more imcreasingly complex and more effort is needed to complete the task. This approach acts as a principled way to order invidual team experiences to arrive at a group consensus of priorities across teams and tasks. [Here is a great article from `scrum.org` for using Fibonacci in the practical matter of forecasting tasks.](https://www.scrum.org/resources/blog/practical-fibonacci-beginners-guide-relative-sizing)\n",
    "\n",
    "3. **Price runs.** In many markets, we observe repetitive prices in distinct regimes or clusters. For example, there are bear (low and falling) and bull (high and rising) stock prices. In a three regime market we might observe a holding pattern of little or no price movement. Again common sense and attentive observation reveals clustering patterns of repetitive decisions to sell (s), hold (h), and buy (b). Similar clustering occurs with the volatility of prices in a market and the correlations among markets. [In this article the authors reduce a seemingly very complex multiagent model of market prices to a recurrence relation and⌈ a sequence of z-scores!](https://www.sciencedirect.com/science/article/abs/pii/S016726811630155X)\n",
    "\n",
    "**Exercise**. Find and depict similar instances of each of the three examples above. What are the most basic features of these examples? $\\Diamond$\n",
    "\n",
    "### Rational first\n",
    "\n",
    "We will be using the _rational_ number system, on an _on-going basis_. We define _rational numbers_ as integers $a$, $b$, $c$, and $d$ have $ad=bc$ for $a/b=c/d$. To avoid the very unnecessary complications of deciding what to do with $0/0$ or $a/0$, we will simply _define_ rational division such that neither $b \\neq 0$ and $d \\neq 0$, emphatically and categorically. Also, a concept certainly in vogue for over a century is _infinity_. \n",
    "\n",
    "We will also in these notes not succumb to infinity, since we are finite beings, albeit with the ability to transcend our current state of affairs, most of the time. In school it was always ludicrous to think that I or anyone could possibly compute a number, like $\\pi$ or a transcendental like $e$. In fact we were told we couldn't and the reason is that they are divisible by any number, of course, except their approximate selves. We might instead of using the word _infinite_ (which means literally not finite) or even be careful about the word irrational. Instead we will use the word _approximate_ to tag a number that is not rational.\n",
    "\n",
    "It is true that repeating decimals without end in anyone's lifetime will because they are not divisible not-rational in the mathematical sense. But they are not _real_ either as that term requires a solid notion of eternity on earth called an infinitely countable set. I have been recently reminded that even in a so-called real analysis course, the definition of real based on foundations is missing and always has been. The notion of limits is in the same category. At best I have used for decades the notion of an ongoing stream of numbers such that if I compute any $X_i$ then I could go _on_ and compute the next number in the algorthm $X_{i+1}$ and that's it, not eternity or infinite. [Norman Wildberger's over 200+ videos on Mathematical Foundations]() is the burr under the saddle to remind us to be careful and perhaps use the $+$ symbol instead of the infinity (Lemniscate of Bernoulli) symbol in our summations.\n",
    "\n",
    "**Exercise**. Write an algebraic formula to compute\n",
    "\n",
    "$$\n",
    "\\frac{a}{b} + \\frac{c}{d}.\n",
    "$$\n",
    "\n",
    "Based on this formula write a formula in a cell in a spreadsheet (e.g., Google sheets or Excel or OpenSheets) to calculate a table of this expression for integers and 0 from 0 to 9. We will need a condition to be met to avoid an error. What would that error be? $\\Diamond$\n",
    "\n",
    "### A recurring theme?\n",
    "\n",
    "We recall from various recesses of our mathematical background that for any two integers $n$ and $k$ the count of the number of \n",
    "\n",
    "A 2-dimensional system of linear difference equations that describes the Fibonacci sequence is\n",
    "\n",
    "$$\n",
    "{F_{k+2} \\choose F_{k+1}}={\\begin{bmatrix}1&1\\\\1&0\\end{bmatrix}}{F_{k+1} \\choose F_{k}}\n",
    "$$\n",
    "\n",
    "or, if we prefer,\n",
    "\n",
    "$$\n",
    "{\\vec {F}}_{k+1}=\\mathbf {A} {\\vec {F}}_{k},\n",
    "$$\n",
    "\n",
    "with solution\n",
    "\n",
    "$$\n",
    "{\\vec {F}}_{n}=\\mathbf {A} ^{n}{\\vec {F}}_{0},\n",
    "$$\n",
    "\n",
    "where\n",
    "\n",
    "${\\vec {F}}_{0}=[0 1]^T$ is the initial condition.\n",
    "\n",
    "The solution is a matrix calculation. An example of an 8 element Fibonacci sequence $F_5$ is\n",
    "\n",
    "${0,1,1,2,3,5,8,13}$\n",
    "\n",
    "All we had to do is seed this calculation with the ordered set {0,1} and just keep adding the last two numbers to get the next number.\n",
    "\n",
    "**Exercise**. What are the next three Fibonacci numbers after 13? Try to build this in a spreadsheet. $\\Diamond$\n",
    "\n",
    "And while this is a recurrence relationship, perhaps the first recorded, there is a very natural recurrence embedded in the Harriot-Pascal triangle, here in a $5 \\times 5$ lower triangular matrix. The code computes the outer product of the binomial coefficients for $n, k = 0, \\cdots, 4$. The dyadic primitive function $n ! k$ does the heavy lifting. We set the counter to begin with 0, illustrate the 0 to 4 (5 elements) counting sequence, and then save the transpose of the outer factorial product of the counting sequence to $H$.\n",
    "\n",
    "**APL Note.** Use a Control+i for the `⍳` or index operator, Control+j  for the `∘` jot operator for outer evaluation such as the outer Kronecker and more generally the tensor product $\\otimes$, and Control+Shift+6 for the `⍉` transpose operator to swap columns for rows. The exclamation is as normal. $\\Diamond$\n"
   ]
  },
  {
   "cell_type": "code",
   "execution_count": 136,
   "id": "9314cfdd",
   "metadata": {},
   "outputs": [
    {
     "data": {
      "text/html": [
       "<pre class=\"language-APL\">0 1 2 3 4\n",
       "</pre>"
      ]
     },
     "execution_count": 136,
     "metadata": {},
     "output_type": "execute_result"
    },
    {
     "data": {
      "text/html": [
       "<pre class=\"language-APL\">1 0 0 0 0\n",
       "1 1 0 0 0\n",
       "1 2 1 0 0\n",
       "1 3 3 1 0\n",
       "1 4 6 4 1\n",
       "</pre>"
      ]
     },
     "execution_count": 136,
     "metadata": {},
     "output_type": "execute_result"
    }
   ],
   "source": [
    "⎕IO←0\n",
    "⍳5\n",
    "H←⍉(⍳5)∘.!⍳5\n",
    "H"
   ]
  },
  {
   "cell_type": "markdown",
   "id": "65500126",
   "metadata": {},
   "source": [
    "There is a recurring theme lurking this matrix. Let's start at row 1: 1 0. Add these together to get the second element of row 2: 1. The first column is all 1's, the second is the counting sequnce 0 to 4. The second element of the third row $H_{32}2$ is the sum of the two elements of the second row: $H_{21}+H_{22}=1 + 1 = 2$. Just so, the second element of the fourth row $H_{42}=3$ is the sum of the first two elements in the previous row: $H_{31}+H_{32}=1 + 2 = 3$. Where did the $H_{53}=6$ come from? Following the pattern the answer is $H_{42}+H_{43}=3 + 3=6$.\n",
    "\n",
    "Each row is the sequence of coefficients in the binomial expansion of $(a+b)^n$ where $n$ is the row index integer and the columns are the $k$ index. Each cell of $H$ is then the number of combinations of $n$ choosing $k$ of the $n$.\n",
    "\n",
    "$$\n",
    "{n \\choose k} = \\frac{n!}{(n-k)!k!} = \\frac{n(n-1)(n-2)\\cdots(n-k+1)}{k!}\n",
    "$$\n",
    "\n",
    "So we can compute $H_{nk}=H_k(n)=H_2(4)$ as\n",
    "\n",
    "$$\n",
    "{4 \\choose 3} = \\frac{4!}{(4-2)!2!} = \\frac{4(4-1)}{2(1)}=6\n",
    "$$\n",
    "\n",
    "While Blaise Pascal resurrected the rows, Thomas Harriot had already many years earlier used the column sequences to do calculus and solve for high degree polynomial roots.\n",
    "\n",
    "Is there a Fibonacci sequence somewhere here? Yes. \n",
    "\n",
    "**Exercise.** Compute the binomial coefficients from 0 to 10 in a spreadsheet. In APL use the `⍳` and `!` functions. For example\n",
    "`k!n`, read as $n \\choose k$ and remembering that APL processes right to left, we would have this computation."
   ]
  },
  {
   "cell_type": "code",
   "execution_count": 137,
   "id": "ae4e166c",
   "metadata": {},
   "outputs": [
    {
     "data": {
      "text/html": [
       "<pre class=\"language-APL\">4\n",
       "</pre>"
      ]
     },
     "execution_count": 137,
     "metadata": {},
     "output_type": "execute_result"
    },
    {
     "data": {
      "text/html": [
       "<pre class=\"language-APL\">3\n",
       "</pre>"
      ]
     },
     "execution_count": 137,
     "metadata": {},
     "output_type": "execute_result"
    },
    {
     "data": {
      "text/html": [
       "<pre class=\"language-APL\">4\n",
       "</pre>"
      ]
     },
     "execution_count": 137,
     "metadata": {},
     "output_type": "execute_result"
    }
   ],
   "source": [
    "⎕IO←0 ⍝ We set the Index Origin, nearly always, to 0\n",
    "⎕←n←4\n",
    "⎕←k←3\n",
    "k!n"
   ]
  },
  {
   "cell_type": "markdown",
   "id": "acbd5813",
   "metadata": {},
   "source": [
    "For the `n←5` and `k←⍳n` example, where are these located in the Harriot matrix `H`?\n"
   ]
  },
  {
   "cell_type": "markdown",
   "id": "30784181",
   "metadata": {},
   "source": [
    "### Is there a Fibonacci in the house?\n",
    "\n",
    "Let's look at the diagonals of `H`for a clue.  Here is `H` again to help us.\n"
   ]
  },
  {
   "cell_type": "code",
   "execution_count": 138,
   "id": "4bd7f44a",
   "metadata": {},
   "outputs": [
    {
     "data": {
      "text/html": [
       "<pre class=\"language-APL\">1 0 0 0 0\n",
       "1 1 0 0 0\n",
       "1 2 1 0 0\n",
       "1 3 3 1 0\n",
       "1 4 6 4 1\n",
       "</pre>"
      ]
     },
     "execution_count": 138,
     "metadata": {},
     "output_type": "execute_result"
    }
   ],
   "source": [
    "H"
   ]
  },
  {
   "cell_type": "markdown",
   "id": "4bb2c70a",
   "metadata": {},
   "source": [
    "We start at the first (top) row with $H_{11}=1$. Now we go to the diagonal (this direction: $\\swarrow$) $[H_{01} H_{11}]=[0 1]$, and the next diagonal starting at the next element of row 1 $[H_{13} H_{22} H_{31}]=[0 1 1]$, and the next $[H_{14} H_{23} H_{32} H_{41}=[0 0 1 1]$. Add up each of these diagonals to get ${1, 1, 2, 3, 5}$. It sure looks like the example sequence we set up before. Instead of iterating we just added up diagonals by eyeballing the computation, but perhaps a bit too cleverly though for a computer?\n",
    "\n",
    "Let's reshape the Harriot $H$ matrix. What we want to do is put the $\\swarrow$ elements into a `↓` configuration, like we do when we learned to add two big numbers together in elemetary school. We will work down the rows and rotate (offset if you prefer) them to the right into a pleasant padding of zeros. When we do this we will get our desired result.\n",
    "\n",
    "So first we put some zero padding to the right of the $H$ matrix for each row in $H$ along the row axis, axis number 1."
   ]
  },
  {
   "cell_type": "code",
   "execution_count": 139,
   "id": "ed94ef31",
   "metadata": {},
   "outputs": [
    {
     "data": {
      "text/html": [
       "<pre class=\"language-APL\">1 0 0 0 0 0 0 0 0 0\n",
       "1 1 0 0 0 0 0 0 0 0\n",
       "1 2 1 0 0 0 0 0 0 0\n",
       "1 3 3 1 0 0 0 0 0 0\n",
       "1 4 6 4 1 0 0 0 0 0\n",
       "</pre>"
      ]
     },
     "execution_count": 139,
     "metadata": {},
     "output_type": "execute_result"
    }
   ],
   "source": [
    "H,[1]5 5⍴0"
   ]
  },
  {
   "cell_type": "markdown",
   "id": "de1a628d",
   "metadata": {},
   "source": [
    "Then (second) we use the index of the rows, $0,1,2,3,4$, with the index origin at 0 (just like Excel does with its =OFFSET() function for the spreadsheet officiados) to rotate the row to the right which will take up so many zeros and place those zeros to the left of the row we are operating on (PHEW!)."
   ]
  },
  {
   "cell_type": "code",
   "execution_count": 140,
   "id": "b3a340e4",
   "metadata": {},
   "outputs": [
    {
     "data": {
      "text/html": [
       "<pre class=\"language-APL\">1 0 0 0 0 0 0 0 0 0\n",
       "0 1 1 0 0 0 0 0 0 0\n",
       "0 0 1 2 1 0 0 0 0 0\n",
       "0 0 0 1 3 3 1 0 0 0\n",
       "0 0 0 0 1 4 6 4 1 0\n",
       "</pre>"
      ]
     },
     "execution_count": 140,
     "metadata": {},
     "output_type": "execute_result"
    }
   ],
   "source": [
    "(-⍳5)⌽(H,[1]5 5⍴0)"
   ]
  },
  {
   "cell_type": "markdown",
   "id": "80cb024f",
   "metadata": {},
   "source": [
    "Then, again (third that is), we drop the last 5 columns as they were there just to enable us to do all of this reshaping, but cannot add up to what we already know will be a Fibonacci series. We will do this part of the reshaping along each row, that is, rowwise, the 1st of the two axes in an array (what is the second then?). The minus 5 means start at the far right and then remove the last 5 elements for each (axis [1]) row.\n",
    "\n",
    "**APL Note.** The rotate, reverse operator `⌽` is Control+Shift+5. Note the difference between the high negative `¯` with Control+2 and the arithmetic negative `-`. And there is another negative out there with `~`, the logical _not_ operator. Yes your can build (and some have) circuit boards with APL. The `↓` at Control+u will eliminate rows, that is, the first axis of the array `[1]`. $\\Diamond$\n"
   ]
  },
  {
   "cell_type": "code",
   "execution_count": 141,
   "id": "995a92ac",
   "metadata": {},
   "outputs": [
    {
     "data": {
      "text/html": [
       "<pre class=\"language-APL\">1 0 0 0 0\n",
       "0 1 1 0 0\n",
       "0 0 1 2 1\n",
       "0 0 0 1 3\n",
       "0 0 0 0 1\n",
       "</pre>"
      ]
     },
     "execution_count": 141,
     "metadata": {},
     "output_type": "execute_result"
    }
   ],
   "source": [
    "¯5↓[1](-⍳5)⌽(H,[1]5 5⍴0)"
   ]
  },
  {
   "cell_type": "markdown",
   "id": "f690b984",
   "metadata": {},
   "source": [
    "Lastly (honest! and fourthly) we go columnwise and reduce all columns to a single number by adding them up (yes, it is just simple arithmetic, or else!), the vaunted Fibonacci number. The forward slash bisected by a dash will perform this surgery. We generalize the calculation and build an example of an 11 node Fibonacci sequence here."
   ]
  },
  {
   "cell_type": "code",
   "execution_count": 142,
   "id": "19453d39",
   "metadata": {},
   "outputs": [
    {
     "data": {
      "text/html": [
       "<pre class=\"language-APL\">11\n",
       "</pre>"
      ]
     },
     "execution_count": 142,
     "metadata": {},
     "output_type": "execute_result"
    },
    {
     "data": {
      "text/html": [
       "<pre class=\"language-APL\">1 1 2 3 5 8 13 21 34 55 89\n",
       "</pre>"
      ]
     },
     "execution_count": 142,
     "metadata": {},
     "output_type": "execute_result"
    }
   ],
   "source": [
    "⎕←n←11\n",
    "H←(⍳n)∘.!⍳n\n",
    "⎕←F←+⌿((-n)↓[1](-⍳n)⌽(H,[1]n n⍴0))"
   ]
  },
  {
   "cell_type": "markdown",
   "id": "0873a115",
   "metadata": {},
   "source": [
    "_Ecco_: the 11 element Fibonacci sequence $F$ (we used the quad symbol to display our handiwork).\n",
    "\n",
    "### Pictures are many words\n",
    "\n",
    "Let's visualize an application of the use of Fiboonacci sequences. Enterprise information technology projects usually begin with a list of protential providers like SAP, ORACLE, Microsoft Server. They present and demonstrate the application of their products and services to a potential client. The client, often aided by independent consultants, will develop a short list of applicable providers. In this example there are two approaches presented by competing providers. One is the _bricolage_ approach which advocates a [spiral software development model](https://en.wikipedia.org/wiki/Spiral_model) driven by the risks of implementation and operation, while the other contestant offers an off the shelf [waterfall model](https://en.wikipedia.org/wiki/Waterfall_model)the client affectionately calls a _skyscraper_. We can imagine there are competing camps within the client who favor one or the other. Team leaders conduct a group consensus exercise to help point the enterprise's choice in a more informed direction. They use an 11 node scoring framework based on the Fibonacci sequence to capture the team's realization that when software projects fail, they do so in spectacular ways relative to time, quality, and cost. Fibonacci reflects the adjective _spectacular_ very realistically. In any case the team has decided on the assessment attributes and the scoring of attributes.\n",
    "\n",
    "**APL Note.** We load the `sharpplot.dws` workspace. A [SharpPlot Gallery](https://www.sharpplot.com/Charts.htm) with copious examples will arouse further curiosity. SharpPlot is a production grade graphics environment available outside of APL across several enterprise platforms."
   ]
  },
  {
   "cell_type": "code",
   "execution_count": 143,
   "id": "31be7943",
   "metadata": {},
   "outputs": [
    {
     "data": {
      "text/html": [
       "<pre class=\"language-APL\">C:\\Program Files\\Dyalog\\Dyalog APL-64 18.2 Unicode\\ws\\sharpplot.dws saved Tue Mar  8 13:28:14 2022\n",
       "Cross-platform SharpPlot APL workspace v3.71.0\n",
       "==============================================\n",
       "\n",
       "This workspace contains the APL version of SharpPlot.\n",
       "\n",
       "The main differences with the .Net SharpPlot assembly are:\n",
       "- Raster output formats are not available (BMP, GIF, PNG, JPEG, EMF)\n",
       "  Charts must be output to SVG, PDF, or PS (or XAML)\n",
       "- Only JPEG images can be included in a PostScript or PDF output\n",
       "- Most custom fonts can not be metricated (Arial metrics are used by default)\n",
       "- APL SharpPlot is generally an order of magnitude slower than the .Net version\n",
       "\n",
       "However the API of both versions are plug-compatible.\n",
       "To use cross-platform SharpPlot from any workspace, all you need to do is:\n",
       "      'InitCauseway' 'View'⎕CY'sharpplot'\n",
       "Then a minimal cross-platform SharpPlot script looks like:\n",
       "      InitCauseway ⍬\n",
       "      sp←⎕NEW Causeway.SharpPlot\n",
       "      sp.DrawLineGraph ⊂ ↓+\\¯0.5+?5 1e2⍴0  ⍝ single argument must be enclosed\n",
       "      View sp\n",
       "\n",
       "⍝ See some sample scripts that return a SharpPlot/SharpLeaf instance\n",
       "     '#.Samples.',⍤1⊢#.Samples.⎕NL 3\n",
       "⍝ Display a SharpPlot sample\n",
       "      #.View #.Samples.Sample\n",
       "⍝ Get the sample chart as raw SVG source\n",
       "      svg ← #.Samples.Sample.RenderSvg #.SvgMode.FixedAspect\n",
       "⍝ Save sample chart as an SVG file on disk (use ]cd to see where the file is)\n",
       "      #.Samples.Sample.SaveSvg 'Sample.svg' #.SvgMode.FixedAspect\n",
       "⍝ Save sample report as a PDF file on disk (use ]cd to see where the file is)\n",
       "      #.Samples.MyReport.SavePdf 'MyReport.pdf' #.PdfMode.ShowOutlines\n",
       "\n",
       "</pre>"
      ]
     },
     "execution_count": 143,
     "metadata": {},
     "output_type": "execute_result"
    }
   ],
   "source": [
    ")load sharpplot"
   ]
  },
  {
   "cell_type": "markdown",
   "id": "4b4a4f31",
   "metadata": {},
   "source": [
    "We will repurpose a sample radar graph to compare competing scores called `Samples.Polar` which we view here to whet our graphics appetite for more."
   ]
  },
  {
   "cell_type": "code",
   "execution_count": 144,
   "id": "91a54b8b",
   "metadata": {},
   "outputs": [
    {
     "data": {
      "text/html": [
       "<svg style=\"height: -webkit-fill-available; width: -webkit-fill-available;\"><svg version=\"1.1\" baseProfile=\"full\" width=\"100%\" height=\"100%\" viewBox=\"0 0 4320 3240\"  xmlns=\"http://www.w3.org/2000/svg\" xmlns:xlink=\"http://www.w3.org/1999/xlink\" xmlns:ev=\"http://www.w3.org/2001/xml-events\" >\n",
       " <title>Two Cars Compared</title>\n",
       "<desc>Created by Causeway SVG engine - SharpPlot v3.71.0</desc>\n",
       "<g stroke-miterlimit=\"100\">\n",
       "<desc>Paint the paper =====</desc>\n",
       " <g fill=\"White\" >\n",
       "  <rect x=\"0\" y=\"0\" width=\"4320\" height=\"3240\" />\n",
       " </g>\n",
       "<desc>Border =====</desc>\n",
       "<desc>Heading, subheading and footnotes =====</desc>\n",
       "<desc>Heading</desc>\n",
       " <g fill=\"Navy\" font-family=\"Times New Roman\" font-size=\"180\" >\n",
       "  <text x=\"160\" y=\"256\" >Two Cars</text>\n",
       "  <text x=\"160\" y=\"472\" >Compared</text>\n",
       " </g>\n",
       "<desc>Start of Polar Chart ===========</desc>\n",
       "<desc>radial X-grid</desc>\n",
       " <path fill=\"none\" stroke-width=\"1.8\" stroke=\"Silver\" d=\"M2220 460L2220 1590M3103 885L2220 1590M3322 1841L2220 1590M2710 2608L2220 1590M1730 2608L2220 1590M1118 1841L2220 1590M1337 885L2220 1590\"/>\n",
       "<desc>annular Y-grid</desc>\n",
       " <path d=\"M2345.6 1590A125.6 125.6 0 0 0 2094.4 1590A125.6 125.6 0 0 0 2345.6 1590M2471.1 1590A251.1 251.1 0 0 0 1968.9 1590A251.1 251.1 0 0 0 2471.1 1590M2596.7 1590A376.7 376.7 0 0 0 1843.3 1590A376.7 376.7 0 0 0 2596.7 1590M2722.2 1590A502.2 502.2 0 0 0 1717.8 1590A502.2 502.2 0 0 0 2722.2 1590M2847.8 1590A627.8 627.8 0 0 0 1592.2 1590A627.8 627.8 0 0 0 2847.8 1590M2973.3 1590A753.3 753.3 0 0 0 1466.7 1590A753.3 753.3 0 0 0 2973.3 1590M3098.9 1590A878.9 878.9 0 0 0 1341.1 1590A878.9 878.9 0 0 0 3098.9 1590M3224.4 1590A1004.4 1004.4 0 0 0 1215.6 1590A1004.4 1004.4 0 0 0 3224.4 1590\" stroke-width=\"1.8\" stroke=\"Silver\" fill=\"none\" />\n",
       "<desc>Major ticks (X-axis)</desc>\n",
       " <path fill=\"none\" stroke-width=\"7.2\" stroke=\"Black\" d=\"M2220 460L2220 412M3103 885L3141 856M3322 1841L3368 1852M2710 2608L2731 2651M1730 2608L1709 2651M1118 1841L1072 1852M1337 885L1299 856\"/>\n",
       "<desc>for X-labels</desc>\n",
       " <g font-family=\"Times New Roman\" font-size=\"80\" text-anchor=\"middle\" >\n",
       "  <text x=\"2220\" y=\"292\" >Speed and</text>\n",
       "  <text x=\"2220\" y=\"388\" >handling</text>\n",
       " </g>\n",
       " <g font-family=\"Times New Roman\" font-size=\"80\" >\n",
       "  <text x=\"3160\" y=\"783\" >Fuel</text>\n",
       "  <text x=\"3160\" y=\"879\" >consumption</text>\n",
       " </g>\n",
       " <g font-family=\"Times New Roman\" font-size=\"80\" >\n",
       "  <text x=\"3392\" y=\"1876\" >Comfort and</text>\n",
       "  <text x=\"3392\" y=\"1972\" >legroom</text>\n",
       " </g>\n",
       " <g font-family=\"Times New Roman\" font-size=\"80\" >\n",
       "  <text x=\"2742\" y=\"2724\" >Reliability</text>\n",
       "  <text x=\"2742\" y=\"2820\" >record</text>\n",
       " </g>\n",
       " <g font-family=\"Times New Roman\" font-size=\"80\" text-anchor=\"end\" >\n",
       "  <text x=\"1698\" y=\"2729\" >Safety</text>\n",
       " </g>\n",
       " <g font-family=\"Times New Roman\" font-size=\"80\" text-anchor=\"end\" >\n",
       "  <text x=\"1048\" y=\"1876\" >Seating and</text>\n",
       "  <text x=\"1048\" y=\"1972\" >luggage space</text>\n",
       " </g>\n",
       " <g font-family=\"Times New Roman\" font-size=\"80\" text-anchor=\"end\" >\n",
       "  <text x=\"1280\" y=\"861\" >Service interval</text>\n",
       " </g>\n",
       "<desc>X-axis</desc>\n",
       " <path d=\"M3350 1590A1130 1130 0 0 0 1090 1590A1130 1130 0 0 0 3350 1590\" stroke-width=\"12\" stroke=\"Black\" fill=\"none\" />\n",
       " <path fill=\"none\" stroke-width=\"7.2\" stroke=\"Black\" d=\"M2198 1590L2242 1590M2198 1464L2242 1464M2198 1339L2242 1339M2198 1213L2242 1213M2198 1088L2242 1088M2198 962L2242 962M2198 837L2242 837M2198 711L2242 711M2198 586L2242 586\"/>\n",
       "<desc>Y-axis labels</desc>\n",
       " <g font-family=\"Times New Roman\" font-size=\"80\" text-anchor=\"end\" >\n",
       "  <text x=\"2182\" y=\"1610\" >0</text>\n",
       "  <text x=\"2182\" y=\"1484\" >5</text>\n",
       "  <text x=\"2182\" y=\"1359\" >10</text>\n",
       "  <text x=\"2182\" y=\"1233\" >15</text>\n",
       "  <text x=\"2182\" y=\"1108\" >20</text>\n",
       "  <text x=\"2182\" y=\"982\" >25</text>\n",
       "  <text x=\"2182\" y=\"857\" >30</text>\n",
       "  <text x=\"2182\" y=\"731\" >35</text>\n",
       "  <text x=\"2182\" y=\"606\" >40</text>\n",
       " </g>\n",
       " <path fill=\"none\" stroke-width=\"12\" stroke=\"Black\" d=\"M2220 1590L2220 460\"/>\n",
       "<desc>Polar line/surface</desc>\n",
       " <path d=\"M2220 1088L1552 1058 1339 1791 1882 2291 2678 2540 2930 1752 2927 1026 2220 1088 z\" stroke-linejoin=\"round\" stroke-linecap=\"round\" stroke=\"#CC0000\" fill=\"Red\" opacity=\"0.3\"  stroke-width=\"0\"/>\n",
       " <path d=\"M2220 1088L1552 1058 1339 1791 1882 2291 2678 2540 2930 1752 2927 1026 2220 1088 z\" stroke-linejoin=\"round\" stroke-linecap=\"round\" fill=\"none\" stroke=\"#CC0000\" stroke-width=\"3\"/>\n",
       "<desc>Polar line/surface</desc>\n",
       " <path d=\"M2220 837L1670 1152 1388 1780 1969 2110 2590 2359 2905 1746 2691 1214 2220 837 z\" stroke-linejoin=\"round\" stroke-linecap=\"round\" stroke-dasharray=\"9 12\" stroke=\"#0000CC\" fill=\"Blue\" opacity=\"0.3\"  stroke-width=\"0\"/>\n",
       " <path d=\"M2220 837L1670 1152 1388 1780 1969 2110 2590 2359 2905 1746 2691 1214 2220 837 z\" stroke-linejoin=\"round\" stroke-linecap=\"round\" stroke-dasharray=\"9 12\" fill=\"none\" stroke=\"#0000CC\" stroke-width=\"3\"/>\n",
       "<desc>Key =====</desc>\n",
       "<desc>Block key</desc>\n",
       " <g fill=\"Red\" opacity=\"0.3\" >\n",
       "  <rect x=\"250\" y=\"2885\" width=\"153\" height=\"63\" />\n",
       " </g>\n",
       " <g stroke-width=\"3\" stroke=\"Red\" fill=\"none\" >\n",
       "  <rect x=\"250\" y=\"2885\" width=\"153\" height=\"63\" />\n",
       " </g>\n",
       "<desc>Block key</desc>\n",
       " <g fill=\"Blue\" opacity=\"0.3\" >\n",
       "  <rect x=\"754\" y=\"2885\" width=\"153\" height=\"63\" />\n",
       " </g>\n",
       " <g stroke-width=\"3\" stroke=\"Blue\" stroke-linecap=\"round\" stroke-dasharray=\"9 12\" fill=\"none\" >\n",
       "  <rect x=\"754\" y=\"2885\" width=\"153\" height=\"63\" />\n",
       " </g>\n",
       " <g fill=\"Navy\" font-family=\"Times New Roman\" font-size=\"90\" >\n",
       "  <text x=\"448\" y=\"2948\" >Volvo</text>\n",
       " </g>\n",
       " <g fill=\"Navy\" font-family=\"Times New Roman\" font-size=\"90\" >\n",
       "  <text x=\"952\" y=\"2948\" >Saab</text>\n",
       " </g>\n",
       "<desc>Reset to original origin</desc>\n",
       "</g>\n",
       "</svg>\n",
       "</svg>"
      ]
     },
     "execution_count": 144,
     "metadata": {},
     "output_type": "execute_result"
    }
   ],
   "source": [
    "#.View #.Samples.Polar"
   ]
  },
  {
   "cell_type": "markdown",
   "id": "06500bb3",
   "metadata": {},
   "source": [
    "We will try other samples and repurpose them as we go forward. $\\Diamond$\n",
    "\n",
    "Here is a script (long, but worth it!) to run a plot to help inform the team's recommendation to the enterprise leadership. In the script is a list of decision attributes (7 of them, a nice and neat prime number) with scores for each alternative, _bricolage_ or _skyscraper_. "
   ]
  },
  {
   "cell_type": "code",
   "execution_count": 145,
   "id": "56ba78c4",
   "metadata": {},
   "outputs": [
    {
     "data": {
      "text/html": [
       "<svg style=\"height: -webkit-fill-available; width: -webkit-fill-available;\"><svg version=\"1.1\" baseProfile=\"full\" width=\"100%\" height=\"100%\" viewBox=\"0 0 4320 3240\"  xmlns=\"http://www.w3.org/2000/svg\" xmlns:xlink=\"http://www.w3.org/1999/xlink\" xmlns:ev=\"http://www.w3.org/2001/xml-events\" >\n",
       " <title>Tale of Two Platforms   (Fibonacci Scale)</title>\n",
       "<desc>Created by Causeway SVG engine - SharpPlot v3.71.0</desc>\n",
       "<g stroke-miterlimit=\"100\">\n",
       "<desc>Paint the paper =====</desc>\n",
       " <g fill=\"White\" >\n",
       "  <rect x=\"0\" y=\"0\" width=\"4320\" height=\"3240\" />\n",
       " </g>\n",
       "<desc>Border =====</desc>\n",
       "<desc>Heading, subheading and footnotes =====</desc>\n",
       "<desc>Heading</desc>\n",
       " <g fill=\"Navy\" font-family=\"Times New Roman\" font-size=\"180\" >\n",
       "  <text x=\"160\" y=\"256\" >Tale of Two Platforms </text>\n",
       "  <text x=\"160\" y=\"472\" > (Fibonacci Scale)</text>\n",
       " </g>\n",
       "<desc>Start of Polar Chart ===========</desc>\n",
       "<desc>radial X-grid</desc>\n",
       " <path fill=\"none\" stroke-width=\"1.8\" stroke=\"Silver\" d=\"M2220 460L2220 1590M3103 885L2220 1590M3322 1841L2220 1590M2710 2608L2220 1590M1730 2608L2220 1590M1118 1841L2220 1590M1337 885L2220 1590\"/>\n",
       "<desc>annular Y-grid</desc>\n",
       " <path d=\"M2345.6 1590A125.6 125.6 0 0 0 2094.4 1590A125.6 125.6 0 0 0 2345.6 1590M2471.1 1590A251.1 251.1 0 0 0 1968.9 1590A251.1 251.1 0 0 0 2471.1 1590M2596.7 1590A376.7 376.7 0 0 0 1843.3 1590A376.7 376.7 0 0 0 2596.7 1590M2722.2 1590A502.2 502.2 0 0 0 1717.8 1590A502.2 502.2 0 0 0 2722.2 1590M2847.8 1590A627.8 627.8 0 0 0 1592.2 1590A627.8 627.8 0 0 0 2847.8 1590M2973.3 1590A753.3 753.3 0 0 0 1466.7 1590A753.3 753.3 0 0 0 2973.3 1590M3098.9 1590A878.9 878.9 0 0 0 1341.1 1590A878.9 878.9 0 0 0 3098.9 1590M3224.4 1590A1004.4 1004.4 0 0 0 1215.6 1590A1004.4 1004.4 0 0 0 3224.4 1590\" stroke-width=\"1.8\" stroke=\"Silver\" fill=\"none\" />\n",
       "<desc>Major ticks (X-axis)</desc>\n",
       " <path fill=\"none\" stroke-width=\"7.2\" stroke=\"Black\" d=\"M2220 460L2220 412M3103 885L3141 856M3322 1841L3368 1852M2710 2608L2731 2651M1730 2608L1709 2651M1118 1841L1072 1852M1337 885L1299 856\"/>\n",
       "<desc>for X-labels</desc>\n",
       " <g font-family=\"Times New Roman\" font-size=\"80\" text-anchor=\"middle\" >\n",
       "  <text x=\"2220\" y=\"292\" >Difficult to</text>\n",
       "  <text x=\"2220\" y=\"388\" >operate</text>\n",
       " </g>\n",
       " <g font-family=\"Times New Roman\" font-size=\"80\" >\n",
       "  <text x=\"3160\" y=\"783\" >Complicated to</text>\n",
       "  <text x=\"3160\" y=\"879\" >maintain</text>\n",
       " </g>\n",
       " <g font-family=\"Times New Roman\" font-size=\"80\" >\n",
       "  <text x=\"3392\" y=\"1913\" >Hard to scale</text>\n",
       " </g>\n",
       " <g font-family=\"Times New Roman\" font-size=\"80\" >\n",
       "  <text x=\"2742\" y=\"2729\" >Weak bench</text>\n",
       " </g>\n",
       " <g font-family=\"Times New Roman\" font-size=\"80\" text-anchor=\"end\" >\n",
       "  <text x=\"1698\" y=\"2729\" >Porous security</text>\n",
       " </g>\n",
       " <g font-family=\"Times New Roman\" font-size=\"80\" text-anchor=\"end\" >\n",
       "  <text x=\"1048\" y=\"1876\" >Time to</text>\n",
       "  <text x=\"1048\" y=\"1972\" >failover</text>\n",
       " </g>\n",
       " <g font-family=\"Times New Roman\" font-size=\"80\" text-anchor=\"end\" >\n",
       "  <text x=\"1280\" y=\"705\" >Frequent</text>\n",
       "  <text x=\"1280\" y=\"801\" >service</text>\n",
       "  <text x=\"1280\" y=\"897\" >intervals</text>\n",
       " </g>\n",
       "<desc>X-axis</desc>\n",
       " <path d=\"M3350 1590A1130 1130 0 0 0 1090 1590A1130 1130 0 0 0 3350 1590\" stroke-width=\"12\" stroke=\"Black\" fill=\"none\" />\n",
       " <path fill=\"none\" stroke-width=\"7.2\" stroke=\"Black\" d=\"M2198 1590L2242 1590M2198 1464L2242 1464M2198 1339L2242 1339M2198 1213L2242 1213M2198 1088L2242 1088M2198 962L2242 962M2198 837L2242 837M2198 711L2242 711M2198 586L2242 586\"/>\n",
       "<desc>Y-axis labels</desc>\n",
       " <g font-family=\"Times New Roman\" font-size=\"80\" text-anchor=\"end\" >\n",
       "  <text x=\"2182\" y=\"1610\" >0</text>\n",
       "  <text x=\"2182\" y=\"1484\" >10</text>\n",
       "  <text x=\"2182\" y=\"1359\" >20</text>\n",
       "  <text x=\"2182\" y=\"1233\" >30</text>\n",
       "  <text x=\"2182\" y=\"1108\" >40</text>\n",
       "  <text x=\"2182\" y=\"982\" >50</text>\n",
       "  <text x=\"2182\" y=\"857\" >60</text>\n",
       "  <text x=\"2182\" y=\"731\" >70</text>\n",
       "  <text x=\"2182\" y=\"606\" >80</text>\n",
       " </g>\n",
       " <path fill=\"none\" stroke-width=\"12\" stroke=\"Black\" d=\"M2220 1590L2220 460\"/>\n",
       "<desc>Polar line/surface</desc>\n",
       " <path d=\"M2220 1326L1680 1159 2122 1612 2106 1828 2291 1737 2257 1598 2554 1324 2220 1326 z\" stroke-linejoin=\"round\" stroke-linecap=\"round\" stroke=\"#CC0000\" fill=\"Red\" opacity=\"0.3\"  stroke-width=\"0\"/>\n",
       " <path d=\"M2220 1326L1680 1159 2122 1612 2106 1828 2291 1737 2257 1598 2554 1324 2220 1326 z\" stroke-linejoin=\"round\" stroke-linecap=\"round\" fill=\"none\" stroke=\"#CC0000\" stroke-width=\"3\"/>\n",
       "<desc>Polar line/surface</desc>\n",
       " <path d=\"M2220 1490L1346 893 1963 1649 1920 2212 2405 1975 2893 1744 2269 1551 2220 1490 z\" stroke-linejoin=\"round\" stroke-linecap=\"round\" stroke-dasharray=\"9 12\" stroke=\"#0000CC\" fill=\"Blue\" opacity=\"0.3\"  stroke-width=\"0\"/>\n",
       " <path d=\"M2220 1490L1346 893 1963 1649 1920 2212 2405 1975 2893 1744 2269 1551 2220 1490 z\" stroke-linejoin=\"round\" stroke-linecap=\"round\" stroke-dasharray=\"9 12\" fill=\"none\" stroke=\"#0000CC\" stroke-width=\"3\"/>\n",
       "<desc>Key =====</desc>\n",
       "<desc>Block key</desc>\n",
       " <g fill=\"Red\" opacity=\"0.3\" >\n",
       "  <rect x=\"250\" y=\"2885\" width=\"153\" height=\"63\" />\n",
       " </g>\n",
       " <g stroke-width=\"3\" stroke=\"Red\" fill=\"none\" >\n",
       "  <rect x=\"250\" y=\"2885\" width=\"153\" height=\"63\" />\n",
       " </g>\n",
       "<desc>Block key</desc>\n",
       " <g fill=\"Blue\" opacity=\"0.3\" >\n",
       "  <rect x=\"879\" y=\"2885\" width=\"153\" height=\"63\" />\n",
       " </g>\n",
       " <g stroke-width=\"3\" stroke=\"Blue\" stroke-linecap=\"round\" stroke-dasharray=\"9 12\" fill=\"none\" >\n",
       "  <rect x=\"879\" y=\"2885\" width=\"153\" height=\"63\" />\n",
       " </g>\n",
       " <g fill=\"Navy\" font-family=\"Times New Roman\" font-size=\"90\" >\n",
       "  <text x=\"448\" y=\"2948\" >Bricolage</text>\n",
       " </g>\n",
       " <g fill=\"Navy\" font-family=\"Times New Roman\" font-size=\"90\" >\n",
       "  <text x=\"1077\" y=\"2948\" >Skyscraper</text>\n",
       " </g>\n",
       "<desc>Reset to original origin</desc>\n",
       "</g>\n",
       "</svg>\n",
       "</svg>"
      ]
     },
     "execution_count": 145,
     "metadata": {},
     "output_type": "execute_result"
    }
   ],
   "source": [
    "InitCauseway ⍬ ⍝ start graphics driver                                                          \n",
    "sp←⎕NEW Causeway.SharpPlot ⍝ like R ggplot() create a canvas object sp                                              \n",
    " sp.SetNewline'⋄'\n",
    " sp.Heading←'Tale of Two Platforms ⋄ (Fibonacci Scale)' ⍝ Grammar of Graphics layering\n",
    " sp.HeadingStyle←Causeway.HeadingStyles.Left\n",
    " Bricolage←21 34 3 13 21 8 55   ⍝ team scores\n",
    " Skyscraper←8 5 55 34 55 21 89  ⍝ team scores\n",
    " criteria←'Difficult to operate' 'Complicated to maintain' 'Hard to scale' 'Weak bench' 'Porous security' 'Time to failover' 'Frequent service intervals'\n",
    " sp.PolarChartStyle←Causeway.PolarChartStyles.(GridLines+SurfaceShading)\n",
    " sp.YAxisStyle←Causeway.YAxisStyles.ForceZero\n",
    " sp.MarginLeft←12\n",
    " sp.MarginRight←0\n",
    " sp.SetXLabels⊂criteria\n",
    " sp.XLabelFormat←'XXXXXXXXX;'\n",
    " sp.LabelLineSpacing←120\n",
    " sp.SetColors⊂System.Drawing.Color.(Red Blue)\n",
    " sp.SetFillStyles Causeway.FillStyle.Opacity30\n",
    " sp.SetKeyText⊂'Bricolage' 'Skyscraper'\n",
    " sp.DrawPolarChart⊂Bricolage Skyscraper  ⍝ If not enclosed, Skyscraper would be taken as X coordinates\n",
    "View sp ⍝ display handiwork"
   ]
  },
  {
   "cell_type": "markdown",
   "id": "b0789dff",
   "metadata": {},
   "source": [
    "The impact of a Fibonacci scoring framework can be seen in two directions. We interpret a high score as a very strong difficulty, capability, frequency of occurrent, severity of a failure event. One direction is the obvious score of 89 for extreme frequency of service intervals. In the other direction is strong differential in ability to scale. The team now can have a structured conversation about some of the key pros and cons they had decided upon."
   ]
  },
  {
   "cell_type": "markdown",
   "id": "552b510e",
   "metadata": {},
   "source": [
    "## Some more linear algebra\n",
    "\n",
    "Linear algebra has come to our aid in building an fairly simple but amazing sequence. This strategy of using matrices can be extended further. In fact we can use this extension to do calculus without limits, infinity, even the so-called real numbers, whatever they are. Our computers actually do not use real numbers or probably no irrational numbers as well! They do use zero, integers, and a sign token for negative numbers. We will follow in the same footsteps as did Gilbert Strang at MIT and Norman Wildberger at UNSW and it is continues to be all about counting and arithmetic.\n",
    "\n",
    "### Sums and differences \n",
    "\n",
    "We suppose now that we have a sequence $d={0, 1, 4, 9, 16}$ just counts of distance traveled let's say in kilometers. How fast did we go? How far did we go? These are simply the rates of change of distance called velocity and the cumulative distance. We can read the cumulative distance naturally as $16 - 0=16$ if we start from the beginning using the calculus of common sense. But what about the speed? It looks like we may have sped along at different rates. Let's use the time index $t=0, 1, 2, 3, 4$ as simple increments of 1 starting at 0. We might here think of time as the position of the hour hands on a clock. \n",
    "\n",
    "We now can build a table relating $d$ and $t$, and nothing else up our sleeve(s), yet.\n",
    "\n",
    "\n",
    "|$d$| 0 | 1 | 4 | 9 | 16 |\n",
    "| -: | :-: | :-: | :-: | :-: | :-: |\n",
    "|$t$| 0 | 1 | 2 | 3 | 4 |\n",
    "\n",
    "We did ask one more question: how fast were we going? At the end of the trip we went from 9 km to 16 km from 3 to 4 o'clock or 7 km in that hour. Similarly we can compute the other distance changes per hour to get this table, again nothing at all out of the ordinary!\n",
    "\n",
    "|$d$| 0 | 1 | 4 | 9 | 16 |\n",
    "| -: | :-: | :-: | :-: | :-: | :-: |\n",
    "|$v$| - | 1 | 3 | 5 | 7 |\n",
    "|$t$| 0 | 1 | 2 | 3 | 4 |\n",
    "\n",
    "We check our little bit of work and observe that it looks like we put pedal (accelerator) to the metal (the chassis?), that is, we increased our velocity from 0 to 7 km/hr during this 4 hour drive. We keep a constant velolicity by not moving our foot on the accelerator. We change our velocity by lifting our foot from the pedal or pushing our foot into the pedal.\n",
    "\n",
    "We just did calculus without functions, limits, infinity, certaintly no vigorous hand-waving. We are data analysts and we might even be liking how close our \"math\" is to an actual, observable, problem.\n",
    "\n",
    "We now flex our linear algebra muscles. We will build two operators: one will answer the summation question, the other the change question. The names will be as simple as the example: a summation operator and a difference operator. Here goes.\n",
    "\n",
    "First off we set $d$ in our computation platform.\n",
    "\n",
    "**APL Note**. In Dyalog APL IME use Control+[ for the assignment operator `←` and Control+L for the quad symbol `⎕` to display the contents of `d`. $\\Diamond$"
   ]
  },
  {
   "cell_type": "code",
   "execution_count": 146,
   "id": "49f37646",
   "metadata": {},
   "outputs": [
    {
     "data": {
      "text/html": [
       "<pre class=\"language-APL\">0 1 4 9 16\n",
       "</pre>"
      ]
     },
     "execution_count": 146,
     "metadata": {},
     "output_type": "execute_result"
    }
   ],
   "source": [
    "⎕←d←0 1 4 9 16"
   ]
  },
  {
   "cell_type": "markdown",
   "id": "6448784b",
   "metadata": {},
   "source": [
    "Next we will set up a matrix such that when we left multiply (we remember all too well that matrix multiplication is _not_ commutative) the operator (sum or difference) with the operand ($d$). Later on we might like to reverse our operations. But we hold that thought. Here is a routine which builds the $S_n$ or summation. Details will follow. But first we need a simple identity matrix $I$. It is an identity, like 1, which when left multiplying a sequence or vector, we get the vector back, just like $2 \\times 1=2$.\n",
    "\n",
    "**APL Note**. We use Control+j for the jot `∘` outer product operator. $\\Diamond$"
   ]
  },
  {
   "cell_type": "code",
   "execution_count": 147,
   "id": "dbc47f2b",
   "metadata": {},
   "outputs": [
    {
     "data": {
      "text/html": [
       "<pre class=\"language-APL\">5\n",
       "</pre>"
      ]
     },
     "execution_count": 147,
     "metadata": {},
     "output_type": "execute_result"
    },
    {
     "data": {
      "text/html": [
       "<pre class=\"language-APL\">1 0 0 0 0\n",
       "0 1 0 0 0\n",
       "0 0 1 0 0\n",
       "0 0 0 1 0\n",
       "0 0 0 0 1\n",
       "</pre>"
      ]
     },
     "execution_count": 147,
     "metadata": {},
     "output_type": "execute_result"
    }
   ],
   "source": [
    "⎕←n←⍴d\n",
    "⎕←I←(⍳n)∘.=⍳n"
   ]
  },
  {
   "cell_type": "markdown",
   "id": "e192059c",
   "metadata": {},
   "source": [
    "The distance $d$ has shape, that is length, of 5 meaning 5 elements. This bit of prose simply tests whether a $d$ element on the left is (1) or is not (0) equal to a $d$ element on the right. This is a great example of an outer product where the idea of a product here is a truth claim about the equality of elements of two sequences. We will call $I$ the identity matrix. A quick note to ourselves: we will have to do a bit more than an outer product to get something other than a replication of numbers like 1 down that diagonal. \n",
    "\n",
    "Here's a first difference operator in matrix clothing we can use to transform `d` all unpacked."
   ]
  },
  {
   "cell_type": "code",
   "execution_count": 148,
   "id": "7a393b92",
   "metadata": {},
   "outputs": [
    {
     "data": {
      "text/html": [
       "<pre class=\"language-APL\">1 0 0 0 0\n",
       "0 1 0 0 0\n",
       "0 0 1 0 0\n",
       "0 0 0 1 0\n",
       "0 0 0 0 1\n",
       "</pre>"
      ]
     },
     "execution_count": 148,
     "metadata": {},
     "output_type": "execute_result"
    },
    {
     "data": {
      "text/html": [
       "<pre class=\"language-APL\">0 0 0 0\n",
       "1 0 0 0\n",
       "0 1 0 0\n",
       "0 0 1 0\n",
       "0 0 0 1\n",
       "</pre>"
      ]
     },
     "execution_count": 148,
     "metadata": {},
     "output_type": "execute_result"
    },
    {
     "data": {
      "text/html": [
       "<pre class=\"language-APL\">0 0 0 0 0\n",
       "1 0 0 0 0\n",
       "0 1 0 0 0\n",
       "0 0 1 0 0\n",
       "0 0 0 1 0\n",
       "</pre>"
      ]
     },
     "execution_count": 148,
     "metadata": {},
     "output_type": "execute_result"
    },
    {
     "data": {
      "text/html": [
       "<pre class=\"language-APL\">¯1  0  0  0  0\n",
       " 1 ¯1  0  0  0\n",
       " 0  1 ¯1  0  0\n",
       " 0  0  1 ¯1  0\n",
       " 0  0  0  1 ¯1\n",
       "</pre>"
      ]
     },
     "execution_count": 148,
     "metadata": {},
     "output_type": "execute_result"
    },
    {
     "data": {
      "text/html": [
       "<pre class=\"language-APL\">¯1  1  0  0  0\n",
       " 0 ¯1  1  0  0\n",
       " 0  0 ¯1  1  0\n",
       " 0  0  0 ¯1  1\n",
       " 0  0  0  0 ¯1\n",
       "</pre>"
      ]
     },
     "execution_count": 148,
     "metadata": {},
     "output_type": "execute_result"
    }
   ],
   "source": [
    "⎕IO←0\n",
    "I1←(⍳5)∘.=⍳5\n",
    "I1\n",
    "(1↓[1]I1)\n",
    "(1↓[1]I1),5⍴0\n",
    "(-I)+(1↓[1]I1),5⍴0\n",
    "⎕←D1_5←⍉(-I)+(1↓[1]I1),5⍴0\n"
   ]
  },
  {
   "cell_type": "markdown",
   "id": "885ee294",
   "metadata": {},
   "source": [
    "The lifting is done by this move to make an off principal diagonal diagonal upper and to the left with the negative of the principal diagonal. There is a negative sign and so a sure indicator we are thinking differences. \n",
    "\n",
    "Here is the first of a few steps to unpack the reshaping of a simple 0, 1 matrix into a very useful (and it will turn out surprisingly interesting) matrix transform. We shift the 1 diagonal down and to the left. "
   ]
  },
  {
   "cell_type": "code",
   "execution_count": 149,
   "id": "6e42abe6",
   "metadata": {},
   "outputs": [
    {
     "data": {
      "text/html": [
       "<pre class=\"language-APL\">0 0 0 0\n",
       "1 0 0 0\n",
       "0 1 0 0\n",
       "0 0 1 0\n",
       "0 0 0 1\n",
       "</pre>"
      ]
     },
     "execution_count": 149,
     "metadata": {},
     "output_type": "execute_result"
    }
   ],
   "source": [
    "1↓[1]I"
   ]
  },
  {
   "cell_type": "markdown",
   "id": "a6efcd99",
   "metadata": {},
   "source": [
    "Then we pad the right with a zero column to square up the evolving operator. \n",
    "\n",
    "**APL Note and Exercise.** What if we had used [2]? Perhaps an error might occur! And if so, how might we remedy the situation? What would happen if we used `¯1↓` instead? There are many shift operators that might work here to translate coordinates. Are their rotations possible? Stay tuned for that architecture. $\\Diamond$"
   ]
  },
  {
   "cell_type": "code",
   "execution_count": 150,
   "id": "109ad643",
   "metadata": {},
   "outputs": [
    {
     "data": {
      "text/html": [
       "<pre class=\"language-APL\">0 0 0 0 0\n",
       "1 0 0 0 0\n",
       "0 1 0 0 0\n",
       "0 0 1 0 0\n",
       "0 0 0 1 0\n",
       "</pre>"
      ]
     },
     "execution_count": 150,
     "metadata": {},
     "output_type": "execute_result"
    }
   ],
   "source": [
    "(1↓[1]I),5⍴0"
   ]
  },
  {
   "cell_type": "markdown",
   "id": "16befc20",
   "metadata": {},
   "source": [
    "In this next to the last step we add the negative of the identity matrix $I$ and now look at the pattern of each row. Also we label this matrix operator $D_n^1=D1n=D1_5$ for the first difference of the $n \\times n = 5 \\times 5$ matrix transform."
   ]
  },
  {
   "cell_type": "code",
   "execution_count": 151,
   "id": "2550e262",
   "metadata": {},
   "outputs": [
    {
     "data": {
      "text/html": [
       "<pre class=\"language-APL\">¯1  0  0  0  0\n",
       " 1 ¯1  0  0  0\n",
       " 0  1 ¯1  0  0\n",
       " 0  0  1 ¯1  0\n",
       " 0  0  0  1 ¯1\n",
       "</pre>"
      ]
     },
     "execution_count": 151,
     "metadata": {},
     "output_type": "execute_result"
    }
   ],
   "source": [
    "(-I)+(1↓[1]I),5⍴0"
   ]
  },
  {
   "cell_type": "markdown",
   "id": "57d2b898",
   "metadata": {},
   "source": [
    "Transpose this last result (swap rows for columns) to get a fully self sufficient back shift operator in production.\n",
    "\n",
    "**APL Note.** The transpose operator is Control+Shift+6 `⍉` to swap rows for columns. Yet another data-shaping operation. Not the way we define the I matrix within the difference operator. $\\Diamond$"
   ]
  },
  {
   "cell_type": "code",
   "execution_count": 152,
   "id": "f8644205",
   "metadata": {},
   "outputs": [
    {
     "data": {
      "text/html": [
       "<pre class=\"language-APL\">5\n",
       "</pre>"
      ]
     },
     "execution_count": 152,
     "metadata": {},
     "output_type": "execute_result"
    },
    {
     "data": {
      "text/html": [
       "<pre class=\"language-APL\">¯1  1  0  0  0\n",
       " 0 ¯1  1  0  0\n",
       " 0  0 ¯1  1  0\n",
       " 0  0  0 ¯1  1\n",
       " 0  0  0  0 ¯1\n",
       "</pre>"
      ]
     },
     "execution_count": 152,
     "metadata": {},
     "output_type": "execute_result"
    }
   ],
   "source": [
    "⎕←n←5\n",
    "⎕←D1_5←⍉(-I)+(1↓[1]I←(⍳5)∘.=⍳n),n⍴0"
   ]
  },
  {
   "cell_type": "markdown",
   "id": "f17bfd31",
   "metadata": {},
   "source": [
    "Row 3 has elements [0 0 -1 1 0]. When we cross multiply this row with a column $d= [$0 1 4 9 16$]^T$, the transpose of the row we get this computation."
   ]
  },
  {
   "cell_type": "code",
   "execution_count": 153,
   "id": "661436fe",
   "metadata": {},
   "outputs": [
    {
     "data": {
      "text/html": [
       "<pre class=\"language-APL\">0 0 ¯1 1 0\n",
       "</pre>"
      ]
     },
     "execution_count": 153,
     "metadata": {},
     "output_type": "execute_result"
    },
    {
     "data": {
      "text/html": [
       "<pre class=\"language-APL\"> 0\n",
       " 1\n",
       " 4\n",
       " 9\n",
       "16\n",
       "</pre>"
      ]
     },
     "execution_count": 153,
     "metadata": {},
     "output_type": "execute_result"
    },
    {
     "data": {
      "text/html": [
       "<pre class=\"language-APL\">5\n",
       "</pre>"
      ]
     },
     "execution_count": 153,
     "metadata": {},
     "output_type": "execute_result"
    }
   ],
   "source": [
    "⎕←row2←0 0 ¯1 1 0\n",
    "⎕←dT←5 1⍴d\n",
    "row2+.×d ⍝ Reverse Polish Notation: take d and multiply each element of row2, then add the products"
   ]
  },
  {
   "cell_type": "markdown",
   "id": "13dbee8c",
   "metadata": {},
   "source": [
    "The last row is a phantom of the 5 vertices of `d`. A difference sequence act like the 4 intervals (1d faces) on a 5 vertex graph (grid). Indeed the km between hours 2 and 3 is $0\\times 0 + 0\\times 0 + -1 \\times 4 + 1 \\times 9 + 0 \\times 16 = 0 + (-4) + 9 + 0 = 9 - 4 = 5$km/h, with the dimensional interpretation from the road. Now we put all 5 sum products (sounds like Excel's =SUMPRODUCT) together in one mass transformation of $d$ to $v$ to get this new result. \n",
    "\n",
    "**APL Note**. In Dyalog APL IME use Control+ - (hyphen) for `×` and Control+u for `↓` and if we want to designate a negative number we use Control+2 for the high negative sign `¯` to mark negatively signed numbers in APL. $\\Diamond$"
   ]
  },
  {
   "cell_type": "code",
   "execution_count": 154,
   "id": "aa55e90e",
   "metadata": {},
   "outputs": [
    {
     "data": {
      "text/html": [
       "<pre class=\"language-APL\">0 1 4 9 16\n",
       "</pre>"
      ]
     },
     "execution_count": 154,
     "metadata": {},
     "output_type": "execute_result"
    },
    {
     "data": {
      "text/html": [
       "<pre class=\"language-APL\">1 3 5 7\n",
       "</pre>"
      ]
     },
     "execution_count": 154,
     "metadata": {},
     "output_type": "execute_result"
    }
   ],
   "source": [
    "d\n",
    "⎕←v←¯1↓D1_5+.×d ⍝ Last element is a fantom (0-16=¯16)! There are only 4 differences in a sequence of 5."
   ]
  },
  {
   "cell_type": "markdown",
   "id": "d1f6c6ab",
   "metadata": {},
   "source": [
    "The plot shows the story: there appears to be some sort acceleration throughout the 4 hour trip which we see as $v$ gets larger! One more difference, the second difference of $d$ which is the first difference of $v$ will result in $a$, acceleration."
   ]
  },
  {
   "cell_type": "code",
   "execution_count": 155,
   "id": "5e1d0166",
   "metadata": {},
   "outputs": [
    {
     "data": {
      "text/html": [
       "<pre class=\"language-APL\">2 2 2 ¯23 16\n",
       "</pre>"
      ]
     },
     "execution_count": 155,
     "metadata": {},
     "output_type": "execute_result"
    },
    {
     "data": {
      "text/html": [
       "<pre class=\"language-APL\">2 2 2\n",
       "</pre>"
      ]
     },
     "execution_count": 155,
     "metadata": {},
     "output_type": "execute_result"
    }
   ],
   "source": [
    "⎕←a←D1_5+.×D1_5+.×d\n",
    "⎕←a←¯2↓D1_5+.×D1_5+.×d"
   ]
  },
  {
   "cell_type": "markdown",
   "id": "5ab133e6",
   "metadata": {},
   "source": [
    "There are only 3 differences (intervals, faces) left from the $v$ with 4 elements (vertices, nodes) so we drop the last two phantom elements. The arithmetic is technically correct but the application to the problem is not unless we drop that last phantom calculation. Apparently our rate of change of speed is constant for the different elements of $v$.\n",
    "\n",
    "### Just one more thing\n",
    "\n",
    "Let's make a summation operator $S$ while we are at it. This is yet another logical operator (0, 1) just like the identity matrix.\n"
   ]
  },
  {
   "cell_type": "code",
   "execution_count": 156,
   "id": "70a079f7",
   "metadata": {},
   "outputs": [
    {
     "data": {
      "text/html": [
       "<pre class=\"language-APL\">1 0 0 0 0\n",
       "1 1 0 0 0\n",
       "1 1 1 0 0\n",
       "1 1 1 1 0\n",
       "1 1 1 1 1\n",
       "</pre>"
      ]
     },
     "execution_count": 156,
     "metadata": {},
     "output_type": "execute_result"
    },
    {
     "data": {
      "text/html": [
       "<pre class=\"language-APL\">0 1 4 9 16\n",
       "</pre>"
      ]
     },
     "execution_count": 156,
     "metadata": {},
     "output_type": "execute_result"
    }
   ],
   "source": [
    "⎕←S1_5←(⍳5)∘.≥⍳5\n",
    "⎕←S1_5+.× 0,v"
   ]
  },
  {
   "cell_type": "markdown",
   "id": "6c11519b",
   "metadata": {},
   "source": [
    "Amazing and we can only appreciate this if we perform all of the calculations by hand. It turns out that the composition $(S \\circ D)d =S(D\\,d) = d$. Some might even venture to call this the _Fundamental Theorem of (Discrete) Calculus_. Notice to right size the matrix calculation we (cleverly) inserted a 0 in the first position of `v`. Why does $S \\, d$, while computationally possible, does not make any sense relative to the facts surrounding the data? Also what would $S \\, a$ give us?\n"
   ]
  },
  {
   "cell_type": "markdown",
   "id": "16d605d7",
   "metadata": {},
   "source": [
    "\n",
    "### Try these exercises\n",
    "\n",
    "1. We can use this technology to examine prices, their rate of change called inflation, and how fast inflation changes by analogy with distance, velocity, and acceleration. Here is a sequence (so-called time series) of average USD monthly prices of a dozen eggs in 2015 from the U.S. Bureau of Labor Statistics. Calculate the number of elements in the sequence, egg price inflation, and the rate at which inflation changes. Be sure to use the dimensions (USD, months) to present answers. Plot the rate\n",
    "at which inflation changes and interpret the results."
   ]
  },
  {
   "cell_type": "code",
   "execution_count": 157,
   "id": "3261aca1",
   "metadata": {},
   "outputs": [
    {
     "data": {
      "text/html": [
       "<pre class=\"language-APL\">1.96 2.57 2.57 2.94 2.97 2.66 2.75 2.33 2.27 1.49 1.55 1.32\n",
       "</pre>"
      ]
     },
     "execution_count": 157,
     "metadata": {},
     "output_type": "execute_result"
    }
   ],
   "source": [
    "⎕←eggs←1.96 2.57 2.57 2.94 2.97 2.66 2.75 2.33 2.27 1.49 1.55 1.32"
   ]
  },
  {
   "cell_type": "markdown",
   "id": "8cc26f69",
   "metadata": {},
   "source": [
    "2. Let's generate the first 10 Fibonacci numbers, chop off any element(s) to start at 1, and find first and second differences. Compare them, chart them, interpret them relative to the Fibonacci numbers. That was the easy part. Now develop a matrix transform to compute successive ratios of Fibonacci numbers. It is these ratios which some traders use to characterize the support and resistance levels of prices in daily markets. Here is the workflow for the first 5 numbers we developed already to start us off in the right direction."
   ]
  },
  {
   "cell_type": "code",
   "execution_count": 158,
   "id": "6f9fd07f",
   "metadata": {},
   "outputs": [
    {
     "data": {
      "text/html": [
       "<pre class=\"language-APL\">5\n",
       "</pre>"
      ]
     },
     "execution_count": 158,
     "metadata": {},
     "output_type": "execute_result"
    },
    {
     "data": {
      "text/html": [
       "<pre class=\"language-APL\">1 0 0 0 0\n",
       "1 1 0 0 0\n",
       "1 2 1 0 0\n",
       "1 3 3 1 0\n",
       "1 4 6 4 1\n",
       "</pre>"
      ]
     },
     "execution_count": 158,
     "metadata": {},
     "output_type": "execute_result"
    },
    {
     "data": {
      "text/html": [
       "<pre class=\"language-APL\">1 0 0 0 0 0 0 0 0 0\n",
       "0 1 1 0 0 0 0 0 0 0\n",
       "0 0 1 2 1 0 0 0 0 0\n",
       "0 0 0 1 3 3 1 0 0 0\n",
       "0 0 0 0 1 4 6 4 1 0\n",
       "</pre>"
      ]
     },
     "execution_count": 158,
     "metadata": {},
     "output_type": "execute_result"
    },
    {
     "data": {
      "text/html": [
       "<pre class=\"language-APL\">1 1 2 3 5\n",
       "</pre>"
      ]
     },
     "execution_count": 158,
     "metadata": {},
     "output_type": "execute_result"
    },
    {
     "data": {
      "text/html": [
       "<pre class=\"language-APL\">1 0 0 0 0\n",
       "0 1 0 0 0\n",
       "0 0 1 0 0\n",
       "0 0 0 1 0\n",
       "0 0 0 0 1\n",
       "</pre>"
      ]
     },
     "execution_count": 158,
     "metadata": {},
     "output_type": "execute_result"
    },
    {
     "data": {
      "text/html": [
       "<pre class=\"language-APL\">¯1  0  0  0  0\n",
       " 1 ¯1  0  0  0\n",
       " 0  1 ¯1  0  0\n",
       " 0  0  1 ¯1  0\n",
       " 0  0  0  1 ¯1\n",
       "</pre>"
      ]
     },
     "execution_count": 158,
     "metadata": {},
     "output_type": "execute_result"
    },
    {
     "data": {
      "text/html": [
       "<pre class=\"language-APL\">¯1 0 ¯1 ¯1\n",
       "</pre>"
      ]
     },
     "execution_count": 158,
     "metadata": {},
     "output_type": "execute_result"
    }
   ],
   "source": [
    "⎕IO←0\n",
    "⎕←n←5\n",
    "⎕←H←⍉(⍳n)∘.!⍳n\n",
    "(-⍳5)⌽(H,5 5⍴0)\n",
    "⎕←F←+⌿((-n)↓[1](-⍳n)⌽(H,[1]n n⍴0))\n",
    "⎕←I←(⍳n)∘.=⍳n\n",
    "⎕←D1_5←(-I)+(1↓[1]I),n⍴0\n",
    "⎕←¯1↓D1_5+.×F ⍝ Last element is a fantom (0-5=¯5)! There are only 4 differences in a sequence of 5."
   ]
  },
  {
   "cell_type": "markdown",
   "id": "715d470c",
   "metadata": {},
   "source": [
    "3. For the series generated in Exercises 1 and 2, calculate the results of the appropriate Sum operation. We should be able verify that $S(D\\,x)=x$. Remember to put a 0 in the differenced variable! (Why?)\n",
    "\n"
   ]
  },
  {
   "cell_type": "code",
   "execution_count": 159,
   "id": "ccdd0fd4",
   "metadata": {},
   "outputs": [],
   "source": [
    "⍝ Build some code here. Less Programming More Learning! \n",
    "⍝ Use the notation as part of a process of reasoning! \n",
    "⍝ Literally play with the hard-fought for rules of this \n",
    "⍝ thinking language to discover more insights."
   ]
  },
  {
   "cell_type": "markdown",
   "id": "121fc7de",
   "metadata": {},
   "source": [
    "## What, if anything, have we accomplished?\n",
    "\n",
    "We have begun to work through the basics of data analytics through very fundamental data processes called sequences. We discovered difference, sums, outer products, matrix multiplication (remember it is is not commutative) as an extension of the arithmetic we learned when we were 8 years old (or whenever we learned the multiplication tables!). The multiplication table is and example of an outer product, as is the identity matrix and the Harriot matrix, a generator for the Fibonacci (_son of Bonacci_) sequence. We even got to apply this thinking to polynomials (as matrix representations of Norman Wildberger's polynumbers), as well as to distance, velocity, and acceleration (an homage to Gilbert Strang).\n",
    "\n",
    "Here is an inventory of APL thought provokers, so far.\n"
   ]
  },
  {
   "cell_type": "code",
   "execution_count": 160,
   "id": "8f9386d6",
   "metadata": {},
   "outputs": [
    {
     "data": {
      "text/html": [
       "<pre class=\"language-APL\">5\n",
       "</pre>"
      ]
     },
     "execution_count": 160,
     "metadata": {},
     "output_type": "execute_result"
    },
    {
     "data": {
      "text/html": [
       "<pre class=\"language-APL\">8\n",
       "</pre>"
      ]
     },
     "execution_count": 160,
     "metadata": {},
     "output_type": "execute_result"
    },
    {
     "data": {
      "text/html": [
       "<pre class=\"language-APL\">0 1 0\n",
       "</pre>"
      ]
     },
     "execution_count": 160,
     "metadata": {},
     "output_type": "execute_result"
    },
    {
     "data": {
      "text/html": [
       "<pre class=\"language-APL\">0 1 2 3 4\n",
       "</pre>"
      ]
     },
     "execution_count": 160,
     "metadata": {},
     "output_type": "execute_result"
    },
    {
     "data": {
      "text/html": [
       "<pre class=\"language-APL\">1 0 0 0 0\n",
       "0 1 0 0 0\n",
       "0 0 1 0 0\n",
       "0 0 0 1 0\n",
       "0 0 0 0 1\n",
       "</pre>"
      ]
     },
     "execution_count": 160,
     "metadata": {},
     "output_type": "execute_result"
    },
    {
     "data": {
      "text/html": [
       "<pre class=\"language-APL\">1 0 0 0 0\n",
       "1 1 0 0 0\n",
       "1 1 1 0 0\n",
       "1 1 1 1 0\n",
       "1 1 1 1 1\n",
       "</pre>"
      ]
     },
     "execution_count": 160,
     "metadata": {},
     "output_type": "execute_result"
    },
    {
     "data": {
      "text/html": [
       "<pre class=\"language-APL\">1 1 1 1 1\n",
       "0 1 1 1 1\n",
       "0 0 1 1 1\n",
       "0 0 0 1 1\n",
       "0 0 0 0 1\n",
       "</pre>"
      ]
     },
     "execution_count": 160,
     "metadata": {},
     "output_type": "execute_result"
    },
    {
     "data": {
      "text/html": [
       "<pre class=\"language-APL\">1 2 3 4 5\n",
       "</pre>"
      ]
     },
     "execution_count": 160,
     "metadata": {},
     "output_type": "execute_result"
    },
    {
     "data": {
      "text/html": [
       "<pre class=\"language-APL\">5 4 3 2 1\n",
       "</pre>"
      ]
     },
     "execution_count": 160,
     "metadata": {},
     "output_type": "execute_result"
    },
    {
     "data": {
      "text/html": [
       "<pre class=\"language-APL\">0  0  0  0  0  0  0  0  0   0   0   0   0\n",
       "0  1  2  3  4  5  6  7  8   9  10  11  12\n",
       "0  2  4  6  8 10 12 14 16  18  20  22  24\n",
       "0  3  6  9 12 15 18 21 24  27  30  33  36\n",
       "0  4  8 12 16 20 24 28 32  36  40  44  48\n",
       "0  5 10 15 20 25 30 35 40  45  50  55  60\n",
       "0  6 12 18 24 30 36 42 48  54  60  66  72\n",
       "0  7 14 21 28 35 42 49 56  63  70  77  84\n",
       "0  8 16 24 32 40 48 56 64  72  80  88  96\n",
       "0  9 18 27 36 45 54 63 72  81  90  99 108\n",
       "0 10 20 30 40 50 60 70 80  90 100 110 120\n",
       "0 11 22 33 44 55 66 77 88  99 110 121 132\n",
       "0 12 24 36 48 60 72 84 96 108 120 132 144\n",
       "</pre>"
      ]
     },
     "execution_count": 160,
     "metadata": {},
     "output_type": "execute_result"
    },
    {
     "data": {
      "text/html": [
       "<pre class=\"language-APL\">0 1 0 0 0\n",
       "0 0 1 0 0\n",
       "0 0 0 1 0\n",
       "0 0 0 0 1\n",
       "</pre>"
      ]
     },
     "execution_count": 160,
     "metadata": {},
     "output_type": "execute_result"
    },
    {
     "data": {
      "text/html": [
       "<pre class=\"language-APL\">1 0 0 0 0\n",
       "0 1 0 0 0\n",
       "0 0 1 0 0\n",
       "0 0 0 1 0\n",
       "</pre>"
      ]
     },
     "execution_count": 160,
     "metadata": {},
     "output_type": "execute_result"
    },
    {
     "data": {
      "text/html": [
       "<pre class=\"language-APL\">0 0 0 0 0\n",
       "</pre>"
      ]
     },
     "execution_count": 160,
     "metadata": {},
     "output_type": "execute_result"
    },
    {
     "data": {
      "text/html": [
       "<pre class=\"language-APL\">120\n",
       "</pre>"
      ]
     },
     "execution_count": 160,
     "metadata": {},
     "output_type": "execute_result"
    },
    {
     "data": {
      "text/html": [
       "<pre class=\"language-APL\">0 0 1 3 6\n",
       "</pre>"
      ]
     },
     "execution_count": 160,
     "metadata": {},
     "output_type": "execute_result"
    }
   ],
   "source": [
    "⎕←n←5                ⍝ Control+L ⎕, Control+[ ←\n",
    "⎕IO←0                ⍝ Set index origin to 0\n",
    "2*3                  ⍝ Control+p *, raise to a power, not simple multiplication\n",
    "⎕←a←0 1 0            ⍝ Polynumber for alpha, see bonus below\n",
    "⍳5                   ⍝ Control+i ⍳ \n",
    "(⍳5)∘.=⍳5            ⍝ Control+j ∘, outer product ∘.f, diagonal identity matrix\n",
    "(⍳5)∘.≥⍳5            ⍝ Control+6 ≥, lower triangular matrix of ones for summation operator\n",
    "⍉(⍳5)∘.≥⍳5           ⍝ Control+Shift+6 ⍉, transpose of lower to upper triangular matrix\n",
    "+/(⍳5)∘.≥⍳5          ⍝ +/ reduces by addition of elements the rows of the matrix\n",
    "+⌿(⍳5)∘.≥⍳5          ⍝ Control+/ ⌿, reduces, in this case by addition, the columns of the matrix, notice the rotation\n",
    "(⍳13)∘.×⍳13          ⍝ Control+- ×, not lower case x!, my nemesis the 12 times table\n",
    "1↓I                  ⍝ Control+u ↓, drop the first row, axis [1] is a row, so that the next one is drop the last row of I?\n",
    "¯1↓I                 ⍝ Control+2 ¯, make a number a negative number token (not a multiplication like - seems to be\n",
    "5⍴0               ⍝ Control+r ⍴, shape maker\n",
    "!n                   ⍝ n!, we recall that this stack-oriented APL language uses RPN (like an HP 12C calculator)\n",
    "2!⍳n                 ⍝ n choose 2, binomial coefficients of (a+b)*n"
   ]
  },
  {
   "cell_type": "markdown",
   "id": "3eaa5895",
   "metadata": {},
   "source": [
    "**A Bonus Exercise.** Let's try to unpack the following one liner for multiplying two polynumbers (-nomials) together like we did somewhere in school algebra."
   ]
  },
  {
   "cell_type": "code",
   "execution_count": 161,
   "id": "3a244275",
   "metadata": {},
   "outputs": [
    {
     "data": {
      "text/html": [
       "<pre class=\"language-APL\">0 0 4 0 0 0\n",
       "</pre>"
      ]
     },
     "execution_count": 161,
     "metadata": {},
     "output_type": "execute_result"
    }
   ],
   "source": [
    "⎕IO←0\n",
    "a←0 2 0\n",
    "b←a\n",
    "⍝ Control+s ⌈, when combined with /, finds the maximum of the object to the right, here m and n\n",
    "+⌿(-⍳⍴a)⌽(a)∘.×b,(m+n-⌈/(n←⍴a),m←⍴b)⍴0"
   ]
  },
  {
   "cell_type": "markdown",
   "id": "472874d4",
   "metadata": {},
   "source": [
    "We truncate the last 3 elements, all zeros, as not necessary for the evaluation of the polynomial/polynumber, although if we were genuine algebraic geometers we would certainly leave them be. In applied work, we would otherwise truncate. We do get the result we posted way above in the definition of a polynomial with polynumbers. $\\Diamond$\n",
    "\n",
    "We will use the APL notation as part of a process of reasoning from foundations! Literally we can play with the hard-fought for rules of this thinking language to discover more insights.\n",
    "\n",
    "On deck is the **_Incursions, Excursions, Recursions_** segment of Foundations of Data Analytics. Until then, thank you for your kind attention as we continue our journey."
   ]
  }
 ],
 "metadata": {
  "kernelspec": {
   "display_name": "Dyalog APL",
   "language": "apl",
   "name": "dyalog-kernel"
  },
  "language_info": {
   "file_extension": ".apl",
   "mimetype": "text/apl",
   "name": "APL"
  }
 },
 "nbformat": 4,
 "nbformat_minor": 5
}
